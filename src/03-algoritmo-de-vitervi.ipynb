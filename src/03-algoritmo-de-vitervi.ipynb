{
 "cells": [
  {
   "cell_type": "code",
   "execution_count": 1,
   "metadata": {},
   "outputs": [
    {
     "name": "stdout",
     "output_type": "stream",
     "text": [
      "/home/rml/dev/nlp\n"
     ]
    }
   ],
   "source": [
    "%cd .."
   ]
  },
  {
   "cell_type": "code",
   "execution_count": 2,
   "metadata": {},
   "outputs": [],
   "source": [
    "import numpy as np"
   ]
  },
  {
   "cell_type": "code",
   "execution_count": 3,
   "metadata": {},
   "outputs": [],
   "source": [
    "# Cargamos las probabilidadeds del modelo HMM\n",
    "emissionProbDict = np.load('./emissionHMM.npy', allow_pickle=True).item()\n",
    "transitionProbDict = np.load('./transitionHMM.npy', allow_pickle=True).item()"
   ]
  },
  {
   "cell_type": "code",
   "execution_count": 4,
   "metadata": {},
   "outputs": [],
   "source": [
    "stateSet = sorted(set([w.split('|')[1] for w in emissionProbDict.keys()]))"
   ]
  },
  {
   "cell_type": "code",
   "execution_count": 5,
   "metadata": {},
   "outputs": [
    {
     "data": {
      "text/plain": [
       "{'ADJ': 0,\n",
       " 'ADP': 1,\n",
       " 'ADV': 2,\n",
       " 'AUX': 3,\n",
       " 'CCONJ': 4,\n",
       " 'DET': 5,\n",
       " 'INTJ': 6,\n",
       " 'NOUN': 7,\n",
       " 'NUM': 8,\n",
       " 'PART': 9,\n",
       " 'PRON': 10,\n",
       " 'PROPN': 11,\n",
       " 'PUNCT': 12,\n",
       " 'SCONJ': 13,\n",
       " 'SYM': 14,\n",
       " 'VERB': 15,\n",
       " '_': 16}"
      ]
     },
     "execution_count": 5,
     "metadata": {},
     "output_type": "execute_result"
    }
   ],
   "source": [
    "tagStateDict = {}\n",
    "for i, state in enumerate(stateSet):\n",
    "    tagStateDict[state] = i\n",
    "tagStateDict"
   ]
  },
  {
   "cell_type": "code",
   "execution_count": 6,
   "metadata": {},
   "outputs": [],
   "source": [
    "from conllu import parse_incr"
   ]
  },
  {
   "cell_type": "code",
   "execution_count": 7,
   "metadata": {},
   "outputs": [
    {
     "data": {
      "text/plain": [
       "{'DET': 0.36275695284159615,\n",
       " 'PROPN': 0.1124546553808948,\n",
       " 'ADP': 0.15538089480048367,\n",
       " 'PRON': 0.06348246674727932,\n",
       " 'SCONJ': 0.02418379685610641,\n",
       " 'ADV': 0.056831922611850064,\n",
       " 'PUNCT': 0.08222490931076179,\n",
       " 'VERB': 0.021160822249093107,\n",
       " 'ADJ': 0.010882708585247884,\n",
       " 'CCONJ': 0.032648125755743655,\n",
       " 'NOUN': 0.02720677146311971,\n",
       " '_': 0.009068923821039904,\n",
       " 'INTJ': 0.0006045949214026602,\n",
       " 'AUX': 0.019347037484885126,\n",
       " 'NUM': 0.01995163240628779,\n",
       " 'PART': 0.0018137847642079807}"
      ]
     },
     "execution_count": 7,
     "metadata": {},
     "output_type": "execute_result"
    }
   ],
   "source": [
    "wordList = []\n",
    "data_file = open(\"./resources/es_ancora-ud-dev.conllu\", \"r\", encoding=\"utf8\")\n",
    "count = 0\n",
    "initTagStateProb = {}\n",
    "for tokenlist in parse_incr(data_file):\n",
    "    count += 1\n",
    "    tag = tokenlist[0]['upos']\n",
    "    if tag in initTagStateProb.keys():\n",
    "        initTagStateProb[tag] += 1\n",
    "    else:\n",
    "        initTagStateProb[tag] = 1\n",
    "    \n",
    "for key in initTagStateProb.keys():\n",
    "    initTagStateProb[key] /= count\n",
    "\n",
    "initTagStateProb"
   ]
  },
  {
   "cell_type": "code",
   "execution_count": 8,
   "metadata": {},
   "outputs": [
    {
     "data": {
      "text/plain": [
       "0.9999999999999999"
      ]
     },
     "execution_count": 8,
     "metadata": {},
     "output_type": "execute_result"
    }
   ],
   "source": [
    "sum(initTagStateProb.values())"
   ]
  },
  {
   "cell_type": "code",
   "execution_count": 9,
   "metadata": {},
   "outputs": [
    {
     "name": "stderr",
     "output_type": "stream",
     "text": [
      "[nltk_data] Downloading package punkt to /home/rml/nltk_data...\n",
      "[nltk_data]   Package punkt is already up-to-date!\n"
     ]
    }
   ],
   "source": [
    "import nltk\n",
    "nltk.download('punkt')\n",
    "from nltk import word_tokenize"
   ]
  },
  {
   "cell_type": "code",
   "execution_count": 14,
   "metadata": {},
   "outputs": [],
   "source": [
    "def ViterbiMatrix(secuencia,\n",
    "                  transitionProbDict=transitionProbDict,\n",
    "                  emissionProbDict=emissionProbDict,\n",
    "                  tagStageDict=tagStateDict,\n",
    "                  initTagStateProb=initTagStateProb):\n",
    "    # inicialización de la primera columna\n",
    "    seq = word_tokenize(secuencia)\n",
    "    viterbiProb = np.zeros((len(tagStageDict), len(seq)))\n",
    "    \n",
    "    for key in tagStageDict.keys():\n",
    "        tag_row = tagStageDict[key]\n",
    "        word_tag = \"{}|{}\".format(seq[0].lower(), key)\n",
    "        if word_tag in emissionProbDict.keys():\n",
    "            viterbiProb[tag_row, 0] = initTagStateProb[key] * emissionProbDict[word_tag]\n",
    "            \n",
    "    # siguientes columnas\n",
    "    for col in range(1, len(seq)):\n",
    "        for key in tagStateDict.keys():\n",
    "            tag_row = tagStateDict[key]\n",
    "            word_tag = \"{}|{}\".format(seq[col].lower(), key)\n",
    "            if word_tag in emissionProbDict.keys():\n",
    "                possible_probs = []\n",
    "                for key2 in tagStateDict.keys():\n",
    "                    tag_row2 = tagStateDict[key2]\n",
    "                    tag_prevtag = \"{}|{}\".format(key, key2)\n",
    "                    if tag_prevtag in transitionProbDict.keys():\n",
    "                        if viterbiProb[tag_row2, col-1] > 0:\n",
    "                            possible_probs.append(viterbiProb[tag_row2, col-1]*transitionProbDict[tag_prevtag]*emissionProbDict[word_tag])\n",
    "                viterbiProb[tag_row, col] = max(possible_probs)\n",
    "            \n",
    "        \n",
    "    return viterbiProb\n",
    "    "
   ]
  },
  {
   "cell_type": "code",
   "execution_count": 16,
   "metadata": {},
   "outputs": [],
   "source": [
    "np.set_printoptions(suppress=True)"
   ]
  },
  {
   "cell_type": "code",
   "execution_count": 17,
   "metadata": {},
   "outputs": [
    {
     "data": {
      "text/plain": [
       "array([[0.        , 0.        , 0.        , 0.        ],\n",
       "       [0.        , 0.        , 0.        , 0.        ],\n",
       "       [0.        , 0.        , 0.        , 0.        ],\n",
       "       [0.        , 0.        , 0.00000003, 0.        ],\n",
       "       [0.        , 0.        , 0.        , 0.        ],\n",
       "       [0.12461736, 0.        , 0.        , 0.        ],\n",
       "       [0.        , 0.        , 0.        , 0.        ],\n",
       "       [0.        , 0.00000402, 0.        , 0.        ],\n",
       "       [0.        , 0.        , 0.        , 0.        ],\n",
       "       [0.        , 0.        , 0.        , 0.        ],\n",
       "       [0.        , 0.        , 0.        , 0.        ],\n",
       "       [0.        , 0.00000365, 0.        , 0.        ],\n",
       "       [0.        , 0.        , 0.        , 0.        ],\n",
       "       [0.        , 0.        , 0.        , 0.        ],\n",
       "       [0.        , 0.        , 0.        , 0.        ],\n",
       "       [0.        , 0.        , 0.        , 0.        ],\n",
       "       [0.        , 0.        , 0.        , 0.        ]])"
      ]
     },
     "execution_count": 17,
     "metadata": {},
     "output_type": "execute_result"
    }
   ],
   "source": [
    "matrix = ViterbiMatrix('el mundo es pequeño')\n",
    "# list(map(lambda x: tagStateDict[x], np.argmax(matrix, axis=0)))\n",
    "matrix"
   ]
  },
  {
   "cell_type": "code",
   "execution_count": null,
   "metadata": {},
   "outputs": [],
   "source": []
  }
 ],
 "metadata": {
  "kernelspec": {
   "display_name": "Python 3",
   "language": "python",
   "name": "python3"
  },
  "language_info": {
   "codemirror_mode": {
    "name": "ipython",
    "version": 3
   },
   "file_extension": ".py",
   "mimetype": "text/x-python",
   "name": "python",
   "nbconvert_exporter": "python",
   "pygments_lexer": "ipython3",
   "version": "3.10.9"
  },
  "orig_nbformat": 4,
  "vscode": {
   "interpreter": {
    "hash": "e7370f93d1d0cde622a1f8e1c04877d8463912d04d973331ad4851f04de6915a"
   }
  }
 },
 "nbformat": 4,
 "nbformat_minor": 2
}
