{
 "cells": [
  {
   "cell_type": "code",
   "execution_count": 1,
   "metadata": {},
   "outputs": [
    {
     "data": {
      "application/vnd.jupyter.widget-view+json": {
       "model_id": "fe0346129d0e456b838d78603407b35e",
       "version_major": 2,
       "version_minor": 0
      },
      "text/plain": [
       "Downloading https://raw.githubusercontent.com/stanfordnlp/stanza-resources/main/resources_1.4.1.json:   0%|   …"
      ]
     },
     "metadata": {},
     "output_type": "display_data"
    },
    {
     "name": "stderr",
     "output_type": "stream",
     "text": [
      "2023-02-23 22:47:54 INFO: Downloading default packages for language: es (Spanish) ...\n",
      "2023-02-23 22:47:55 INFO: File exists: /home/rml/stanza_resources/es/default.zip\n",
      "2023-02-23 22:47:58 INFO: Finished downloading models and saved to /home/rml/stanza_resources.\n"
     ]
    }
   ],
   "source": [
    "import stanza\n",
    "stanza.download('es')"
   ]
  },
  {
   "cell_type": "code",
   "execution_count": 3,
   "metadata": {},
   "outputs": [
    {
     "name": "stderr",
     "output_type": "stream",
     "text": [
      "2023-02-23 22:48:16 INFO: Checking for updates to resources.json in case models have been updated.  Note: this behavior can be turned off with download_method=None or download_method=DownloadMethod.REUSE_RESOURCES\n"
     ]
    },
    {
     "data": {
      "application/vnd.jupyter.widget-view+json": {
       "model_id": "841bf014580e4c18937d2cbd7211ec0d",
       "version_major": 2,
       "version_minor": 0
      },
      "text/plain": [
       "Downloading https://raw.githubusercontent.com/stanfordnlp/stanza-resources/main/resources_1.4.1.json:   0%|   …"
      ]
     },
     "metadata": {},
     "output_type": "display_data"
    },
    {
     "name": "stderr",
     "output_type": "stream",
     "text": [
      "2023-02-23 22:48:16 WARNING: Language es package default expects mwt, which has been added\n",
      "2023-02-23 22:48:17 INFO: Loading these models for language: es (Spanish):\n",
      "=======================\n",
      "| Processor | Package |\n",
      "-----------------------\n",
      "| tokenize  | ancora  |\n",
      "| mwt       | ancora  |\n",
      "| pos       | ancora  |\n",
      "=======================\n",
      "\n",
      "2023-02-23 22:48:17 INFO: Use device: cpu\n",
      "2023-02-23 22:48:17 INFO: Loading: tokenize\n",
      "2023-02-23 22:48:17 INFO: Loading: mwt\n",
      "2023-02-23 22:48:17 INFO: Loading: pos\n",
      "2023-02-23 22:48:17 INFO: Done loading processors!\n"
     ]
    }
   ],
   "source": [
    "nlp = stanza.Pipeline('es', processors = 'tokenize, pos', use_gpu=False)"
   ]
  },
  {
   "cell_type": "code",
   "execution_count": 4,
   "metadata": {},
   "outputs": [
    {
     "data": {
      "text/plain": [
       "[\n",
       "  [\n",
       "    {\n",
       "      \"id\": 1,\n",
       "      \"text\": \"yo\",\n",
       "      \"upos\": \"PRON\",\n",
       "      \"xpos\": \"pp1csn00\",\n",
       "      \"feats\": \"Case=Nom|Number=Sing|Person=1|PronType=Prs\",\n",
       "      \"start_char\": 0,\n",
       "      \"end_char\": 2\n",
       "    },\n",
       "    {\n",
       "      \"id\": 2,\n",
       "      \"text\": \"soy\",\n",
       "      \"upos\": \"AUX\",\n",
       "      \"xpos\": \"vsip1s0\",\n",
       "      \"feats\": \"Mood=Ind|Number=Sing|Person=1|Tense=Pres|VerbForm=Fin\",\n",
       "      \"start_char\": 3,\n",
       "      \"end_char\": 6\n",
       "    },\n",
       "    {\n",
       "      \"id\": 3,\n",
       "      \"text\": \"una\",\n",
       "      \"upos\": \"DET\",\n",
       "      \"xpos\": \"di0fs0\",\n",
       "      \"feats\": \"Definite=Ind|Gender=Fem|Number=Sing|PronType=Art\",\n",
       "      \"start_char\": 7,\n",
       "      \"end_char\": 10\n",
       "    },\n",
       "    {\n",
       "      \"id\": 4,\n",
       "      \"text\": \"persona\",\n",
       "      \"upos\": \"NOUN\",\n",
       "      \"xpos\": \"ncfs000\",\n",
       "      \"feats\": \"Gender=Fem|Number=Sing\",\n",
       "      \"start_char\": 11,\n",
       "      \"end_char\": 18\n",
       "    },\n",
       "    {\n",
       "      \"id\": 5,\n",
       "      \"text\": \"muy\",\n",
       "      \"upos\": \"ADV\",\n",
       "      \"xpos\": \"rg\",\n",
       "      \"start_char\": 19,\n",
       "      \"end_char\": 22\n",
       "    },\n",
       "    {\n",
       "      \"id\": 6,\n",
       "      \"text\": \"amable\",\n",
       "      \"upos\": \"ADJ\",\n",
       "      \"xpos\": \"aq0cs0\",\n",
       "      \"feats\": \"Number=Sing\",\n",
       "      \"start_char\": 23,\n",
       "      \"end_char\": 29\n",
       "    }\n",
       "  ]\n",
       "]"
      ]
     },
     "execution_count": 4,
     "metadata": {},
     "output_type": "execute_result"
    }
   ],
   "source": [
    "doc = nlp('yo soy una persona muy amable')\n",
    "doc"
   ]
  },
  {
   "cell_type": "code",
   "execution_count": 6,
   "metadata": {},
   "outputs": [
    {
     "name": "stdout",
     "output_type": "stream",
     "text": [
      "yo PRON\n",
      "soy AUX\n",
      "una DET\n",
      "persona NOUN\n",
      "muy ADV\n",
      "amable ADJ\n"
     ]
    }
   ],
   "source": [
    "for sentence in doc.sentences:\n",
    "    for word in sentence.words:\n",
    "        print(word.text, word.pos)"
   ]
  }
 ],
 "metadata": {
  "kernelspec": {
   "display_name": "Python 3",
   "language": "python",
   "name": "python3"
  },
  "language_info": {
   "codemirror_mode": {
    "name": "ipython",
    "version": 3
   },
   "file_extension": ".py",
   "mimetype": "text/x-python",
   "name": "python",
   "nbconvert_exporter": "python",
   "pygments_lexer": "ipython3",
   "version": "3.10.9"
  },
  "orig_nbformat": 4,
  "vscode": {
   "interpreter": {
    "hash": "e7370f93d1d0cde622a1f8e1c04877d8463912d04d973331ad4851f04de6915a"
   }
  }
 },
 "nbformat": 4,
 "nbformat_minor": 2
}
